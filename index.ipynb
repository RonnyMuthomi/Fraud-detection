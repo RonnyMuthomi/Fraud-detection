{
 "cells": [
  {
   "cell_type": "markdown",
   "id": "a7b4adbc",
   "metadata": {},
   "source": [
    "## Project : CREDICT CARD FRAUD DETECTION\n",
    "\n",
    "### Problem **Fraudelent Trasactions cost Bank millions of Dollars yearly**.\n",
    "\n",
    "##### **Business Understanding (problem)** : \n",
    "\n",
    "💼 **Business Understanding Summary**: Credit Card Fraud Detection\n",
    "\n",
    "The Problem\n",
    "\n",
    "**Credit card fraud is when unauthorized or illegal transactions are made using someone else's card. For banks and financial institutions, this results in**:\n",
    "\n",
    "* 💸 **Financial Losses**: Billions lost annually from chargebacks and reimbursements.\n",
    "\n",
    "* 🛡️ **Customer Trust Issues**: If users feel unsafe, they may stop using the card or switch banks.\n",
    "\n",
    "* 🔍 **Operational Costs**: Investigating fraud cases and tightening security costs time and money.\n",
    "\n",
    "* ⚖️**Regulatory Pressure**: Banks must comply with laws around fraud protection and customer reimbursement.\n",
    "\n",
    "**Business Goal**\n",
    "\n",
    "Minimize financial losses and protect customers by detecting fraudulent transactions in real-time, without rejecting too many valid transactions (false positives).\n",
    "\n",
    "\n",
    "## **Data Understanding**\n",
    "\n",
    "## 📊 **Data Understanding** : Credit Card Fraud Detection Dataset\n",
    "\n",
    "📦 **Dataset Source**\n",
    "\n",
    "📍 **Origin**: The dataset is made available on [Kaggle](https://www.kaggle.com/datasets/rashmitachauhan/creditcardfrauddetection/data) from a research collaboration with European cardholders.\n",
    "\n",
    "\n",
    "👥 Scope: Transactions made by European cardholders.\n",
    "\n",
    "📁 Dataset Details\n",
    "\n",
    "Filename: creditCardFraud_28011964_120214.csv\n",
    "\n",
    "\n",
    "🔢 Features (Columns)\n",
    "\n",
    "Column\t\n",
    "\n",
    "**Note** : Original dataset got it from `kaggle.com` but loaded the dataset in **Database** to practice sql skill\n",
    "\n",
    "**Tools used** :\n",
    "\n",
    "* SQL - queries dataset from database\n",
    "* Python - data preparation, data cleaning etc\n",
    "* Tableau - to communicate my inisights\n",
    "\n",
    "\n",
    "In cell below import libraries to use\n",
    "\n",
    "\n"
   ]
  },
  {
   "cell_type": "code",
   "execution_count": 2,
   "id": "e55bc690",
   "metadata": {},
   "outputs": [],
   "source": [
    "# import libraries\n",
    "\n",
    "import pandas as pd\n",
    "import numpy as np\n",
    "import matplotlib.pyplot as plt\n",
    "import seaborn as sns"
   ]
  },
  {
   "cell_type": "markdown",
   "id": "c43ff13e",
   "metadata": {},
   "source": [
    "The cell below I step the connection to my **database** to load data there for working with"
   ]
  },
  {
   "cell_type": "code",
   "execution_count": 14,
   "id": "31da1a03",
   "metadata": {},
   "outputs": [
    {
     "name": "stdout",
     "output_type": "stream",
     "text": [
      "✅ Database created or already exists.\n",
      "📦 Existing databases:\n",
      " - bank_db\n",
      " - information_schema\n",
      " - my_wordpress\n",
      " - mysql\n",
      " - performance_schema\n",
      " - phpmyadmin\n",
      " - portfolio\n",
      " - test\n"
     ]
    }
   ],
   "source": [
    "from mysql import connector\n",
    "from dotenv import load_dotenv\n",
    "import os\n",
    "\n",
    "load_dotenv()\n",
    "# PASSWORD = os.getenv(\"PASSWORD\")\n",
    "\n",
    "try:\n",
    "    with connector.connect(\n",
    "        host=\"localhost\",\n",
    "        user=\"root\",\n",
    "        password=\"\",\n",
    "    ) as database:\n",
    "        # Create database if it doesn't exist\n",
    "        create_db = \"CREATE DATABASE IF NOT EXISTS `Bank_db`\"\n",
    "        with database.cursor() as cursor:\n",
    "            cursor.execute(create_db)\n",
    "            print(\"✅ Database created or already exists.\")\n",
    "\n",
    "        # Show all existing databases\n",
    "        show_existing_db = \"SHOW DATABASES\"\n",
    "        with database.cursor() as cursor:\n",
    "            cursor.execute(show_existing_db)\n",
    "            print(\"📦 Existing databases:\")\n",
    "            for db in cursor:\n",
    "                print(f\" - {db[0]}\")\n",
    "\n",
    "except connector.Error as err:\n",
    "    print(f\"❌ Error: {err}\")\n"
   ]
  },
  {
   "cell_type": "code",
   "execution_count": null,
   "id": "6f5fb62f",
   "metadata": {},
   "outputs": [],
   "source": []
  },
  {
   "cell_type": "code",
   "execution_count": null,
   "id": "0e28699d",
   "metadata": {},
   "outputs": [],
   "source": []
  }
 ],
 "metadata": {
  "kernelspec": {
   "display_name": ".venv",
   "language": "python",
   "name": "python3"
  },
  "language_info": {
   "codemirror_mode": {
    "name": "ipython",
    "version": 3
   },
   "file_extension": ".py",
   "mimetype": "text/x-python",
   "name": "python",
   "nbconvert_exporter": "python",
   "pygments_lexer": "ipython3",
   "version": "3.11.9"
  }
 },
 "nbformat": 4,
 "nbformat_minor": 5
}
